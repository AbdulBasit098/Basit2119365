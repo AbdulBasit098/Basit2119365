{
 "cells": [
  {
   "cell_type": "code",
   "execution_count": 1,
   "id": "fe717d86",
   "metadata": {},
   "outputs": [
    {
     "name": "stdout",
     "output_type": "stream",
     "text": [
      "Requirement already satisfied: pyspark in ./my-project-env/lib/python3.8/site-packages (3.3.1)\n",
      "Requirement already satisfied: py4j==0.10.9.5 in ./my-project-env/lib/python3.8/site-packages (from pyspark) (0.10.9.5)\n",
      "Note: you may need to restart the kernel to use updated packages.\n"
     ]
    }
   ],
   "source": [
    "%pip install pyspark"
   ]
  },
  {
   "cell_type": "code",
   "execution_count": 2,
   "id": "61ef50a9",
   "metadata": {},
   "outputs": [],
   "source": [
    "from pyspark.sql import SparkSession\n",
    "from pyspark.sql.functions import col, from_json, SparkContext\n",
    "import re"
   ]
  },
  {
   "cell_type": "code",
   "execution_count": 4,
   "id": "a07e1b79",
   "metadata": {},
   "outputs": [
    {
     "name": "stdout",
     "output_type": "stream",
     "text": [
      "root\n",
      " |-- p_id: string (nullable = true)\n",
      " |-- name: string (nullable = true)\n",
      " |-- price: string (nullable = true)\n",
      " |-- colour: string (nullable = true)\n",
      " |-- brand_name: string (nullable = true)\n",
      " |-- ratingCount: string (nullable = true)\n",
      " |-- avg_rating: string (nullable = true)\n",
      " |-- description: string (nullable = true)\n",
      " |-- p_attributes: string (nullable = true)\n",
      "\n"
     ]
    }
   ],
   "source": [
    "spark = SparkSession.builder.appName(\"Assignment 1\").getOrCreate()\n",
    "df = spark.read.csv(\"/home/zaheer-software/jupyter/fashion dataset.csv\", header=True)\n",
    "df.printSchema()"
   ]
  },
  {
   "cell_type": "code",
   "execution_count": 5,
   "id": "597b3c02",
   "metadata": {},
   "outputs": [
    {
     "name": "stderr",
     "output_type": "stream",
     "text": [
      "                                                                                \r"
     ]
    },
    {
     "data": {
      "text/plain": [
       "6568"
      ]
     },
     "execution_count": 5,
     "metadata": {},
     "output_type": "execute_result"
    }
   ],
   "source": [
    "df2 = df.dropna()\n",
    "df2.count()"
   ]
  },
  {
   "cell_type": "code",
   "execution_count": 6,
   "id": "5ecbe83f",
   "metadata": {},
   "outputs": [
    {
     "name": "stderr",
     "output_type": "stream",
     "text": [
      "                                                                                \r"
     ]
    },
    {
     "data": {
      "text/plain": [
       "6140"
      ]
     },
     "execution_count": 6,
     "metadata": {},
     "output_type": "execute_result"
    }
   ],
   "source": [
    "import ast\n",
    "df2.select(\"p_attributes\").distinct().count()"
   ]
  },
  {
   "cell_type": "code",
   "execution_count": 8,
   "id": "810d747c",
   "metadata": {},
   "outputs": [],
   "source": [
    "data_json_lst = []\n",
    "for data in df2.collect():\n",
    "    try:\n",
    "        json_key = ast.literal_eval(data[\"p_attributes\"])\n",
    "        for key in json_key.keys():\n",
    "            if not key in data_json_lst:\n",
    "                data_json_lst.append(key)\n",
    "    except:\n",
    "        continue\n",
    "    "
   ]
  },
  {
   "cell_type": "code",
   "execution_count": 9,
   "id": "1fe5fce0",
   "metadata": {},
   "outputs": [],
   "source": [
    "from pyspark.sql.types import StructType,StructField, StringType\n",
    "schema_lst = []\n",
    "\n",
    "for key in data_json_lst:\n",
    "    schema_lst.append(StructField(key,StringType(),True))\n",
    "\n",
    "schema = StructType(schema_lst)\n"
   ]
  },
  {
   "cell_type": "code",
   "execution_count": 10,
   "id": "ec7b267d",
   "metadata": {},
   "outputs": [
    {
     "name": "stdout",
     "output_type": "stream",
     "text": [
      "23/01/04 18:17:30 WARN package: Truncated the string representation of a plan since it was too large. This behavior can be adjusted by setting 'spark.sql.debug.maxToStringFields'.\n",
      "root\n",
      " |-- p_id: string (nullable = true)\n",
      " |-- name: string (nullable = true)\n",
      " |-- price: string (nullable = true)\n",
      " |-- colour: string (nullable = true)\n",
      " |-- brand_name: string (nullable = true)\n",
      " |-- ratingCount: string (nullable = true)\n",
      " |-- avg_rating: string (nullable = true)\n",
      " |-- description: string (nullable = true)\n",
      " |-- p_attributes: struct (nullable = true)\n",
      " |    |-- Occasion: string (nullable = true)\n",
      " |    |-- Pattern: string (nullable = true)\n",
      " |    |-- Print or Pattern Type: string (nullable = true)\n",
      " |    |-- Body Shape ID: string (nullable = true)\n",
      " |    |-- Body or Garment Size: string (nullable = true)\n",
      " |    |-- Closure: string (nullable = true)\n",
      " |    |-- Fabric: string (nullable = true)\n",
      " |    |-- Hemline: string (nullable = true)\n",
      " |    |-- Hood: string (nullable = true)\n",
      " |    |-- Length: string (nullable = true)\n",
      " |    |-- Neck: string (nullable = true)\n",
      " |    |-- Number of Pockets: string (nullable = true)\n",
      " |    |-- Pocket: string (nullable = true)\n",
      " |    |-- Sleeve Length: string (nullable = true)\n",
      " |    |-- Surface Styling: string (nullable = true)\n",
      " |    |-- Type: string (nullable = true)\n",
      " |    |-- Wash Care: string (nullable = true)\n",
      " |    |-- Bottom Fabric: string (nullable = true)\n",
      " |    |-- Bottom Pattern: string (nullable = true)\n",
      " |    |-- Dupatta Border: string (nullable = true)\n",
      " |    |-- Dupatta Fabric: string (nullable = true)\n",
      " |    |-- Dupatta Pattern: string (nullable = true)\n",
      " |    |-- Kurta Fabric: string (nullable = true)\n",
      " |    |-- Kurta Pattern: string (nullable = true)\n",
      " |    |-- Ornamentation: string (nullable = true)\n",
      " |    |-- Set Content: string (nullable = true)\n",
      " |    |-- Stitch: string (nullable = true)\n",
      " |    |-- Technique: string (nullable = true)\n",
      " |    |-- Add-Ons: string (nullable = true)\n",
      " |    |-- Brand Fit Name: string (nullable = true)\n",
      " |    |-- Character: string (nullable = true)\n",
      " |    |-- Fabric 2: string (nullable = true)\n",
      " |    |-- Features: string (nullable = true)\n",
      " |    |-- Fit: string (nullable = true)\n",
      " |    |-- Fly Type: string (nullable = true)\n",
      " |    |-- Main Trend: string (nullable = true)\n",
      " |    |-- Multipack Set: string (nullable = true)\n",
      " |    |-- Sustainable: string (nullable = true)\n",
      " |    |-- Type of Pleat: string (nullable = true)\n",
      " |    |-- Waist Rise: string (nullable = true)\n",
      " |    |-- Weave Type: string (nullable = true)\n",
      " |    |-- Distress: string (nullable = true)\n",
      " |    |-- Effects: string (nullable = true)\n",
      " |    |-- Fabric 3: string (nullable = true)\n",
      " |    |-- Fade: string (nullable = true)\n",
      " |    |-- Reversible: string (nullable = true)\n",
      " |    |-- Shade: string (nullable = true)\n",
      " |    |-- Stretch: string (nullable = true)\n",
      " |    |-- Type of Distress: string (nullable = true)\n",
      " |    |-- Waistband: string (nullable = true)\n",
      " |    |-- Center Front Open: string (nullable = true)\n",
      " |    |-- Fabric Type: string (nullable = true)\n",
      " |    |-- Lining: string (nullable = true)\n",
      " |    |-- Sleeve Styling: string (nullable = true)\n",
      " |    |-- Transparency: string (nullable = true)\n",
      " |    |-- taxMaterial: string (nullable = true)\n",
      " |    |-- Front Styling: string (nullable = true)\n",
      " |    |-- Knit or Woven: string (nullable = true)\n",
      " |    |-- Sport: string (nullable = true)\n",
      " |    |-- Technology: string (nullable = true)\n",
      " |    |-- Blouse Closure: string (nullable = true)\n",
      " |    |-- Blouse Fabric: string (nullable = true)\n",
      " |    |-- Choli Stitch: string (nullable = true)\n",
      " |    |-- Dupatta: string (nullable = true)\n",
      " |    |-- Lehenga Closure: string (nullable = true)\n",
      " |    |-- Lehenga Fabric: string (nullable = true)\n",
      " |    |-- Lehenga Lining Fabric: string (nullable = true)\n",
      " |    |-- Lehenga Stitch: string (nullable = true)\n",
      " |    |-- Regions: string (nullable = true)\n",
      " |    |-- Style Tip: string (nullable = true)\n",
      " |    |-- Top Pattern: string (nullable = true)\n",
      " |    |-- Where-to-wear: string (nullable = true)\n",
      " |    |-- Bottom Closure: string (nullable = true)\n",
      " |    |-- Bottom Type: string (nullable = true)\n",
      " |    |-- Top Fabric: string (nullable = true)\n",
      " |    |-- Top Type: string (nullable = true)\n",
      " |    |-- Trends: string (nullable = true)\n",
      " |    |-- Blouse: string (nullable = true)\n",
      " |    |-- Border: string (nullable = true)\n",
      " |    |-- Care for me: string (nullable = true)\n",
      " |    |-- Saree Fabric: string (nullable = true)\n",
      " |    |-- Collar: string (nullable = true)\n",
      " |    |-- Lining Fabric: string (nullable = true)\n",
      " |    |-- Pattern Coverage: string (nullable = true)\n",
      " |    |-- Slit Detail: string (nullable = true)\n",
      " |    |-- Top Design Styling: string (nullable = true)\n",
      " |    |-- Top Hemline: string (nullable = true)\n",
      " |    |-- Top Length: string (nullable = true)\n",
      " |    |-- Top Shape: string (nullable = true)\n",
      " |    |-- Weave Pattern: string (nullable = true)\n",
      " |    |-- Design Styling: string (nullable = true)\n",
      " |    |-- Shape: string (nullable = true)\n",
      " |    |-- Sport Team: string (nullable = true)\n",
      " |    |-- Technology Present: string (nullable = true)\n",
      " |    |-- Fabric Purity: string (nullable = true)\n",
      " |    |-- Fusion Wear: string (nullable = true)\n",
      " |    |-- Pattern Size: string (nullable = true)\n",
      " |    |-- Contact Brand or Retailer for pre-sales product queries: string (nullable = true)\n",
      " |    |-- Wedding: string (nullable = true)\n",
      " |    |-- Sub Trend: string (nullable = true)\n",
      " |    |-- Colour Family: string (nullable = true)\n",
      " |    |-- Collection Name: string (nullable = true)\n",
      " |    |-- Better Cotton Initiative: string (nullable = true)\n",
      " |    |-- About the Brand: string (nullable = true)\n",
      " |    |-- How to care for your denim: string (nullable = true)\n",
      "\n"
     ]
    }
   ],
   "source": [
    "from pyspark.sql.functions import col,from_json\n",
    "dfJSON = df2.withColumn(\"p_attributes\", from_json(col(\"p_attributes\"), schema))\n",
    "dfJSON.printSchema()"
   ]
  },
  {
   "cell_type": "code",
   "execution_count": 11,
   "id": "9dba06ea",
   "metadata": {},
   "outputs": [
    {
     "name": "stdout",
     "output_type": "stream",
     "text": [
      "root\n",
      " |-- Occasion: string (nullable = true)\n",
      " |-- Pattern: string (nullable = true)\n",
      " |-- Print or Pattern Type: string (nullable = true)\n",
      " |-- Body Shape ID: string (nullable = true)\n",
      " |-- Body or Garment Size: string (nullable = true)\n",
      " |-- Closure: string (nullable = true)\n",
      " |-- Fabric: string (nullable = true)\n",
      " |-- Hemline: string (nullable = true)\n",
      " |-- Hood: string (nullable = true)\n",
      " |-- Length: string (nullable = true)\n",
      " |-- Neck: string (nullable = true)\n",
      " |-- Number of Pockets: string (nullable = true)\n",
      " |-- Pocket: string (nullable = true)\n",
      " |-- Sleeve Length: string (nullable = true)\n",
      " |-- Surface Styling: string (nullable = true)\n",
      " |-- Type: string (nullable = true)\n",
      " |-- Wash Care: string (nullable = true)\n",
      " |-- Bottom Fabric: string (nullable = true)\n",
      " |-- Bottom Pattern: string (nullable = true)\n",
      " |-- Dupatta Border: string (nullable = true)\n",
      " |-- Dupatta Fabric: string (nullable = true)\n",
      " |-- Dupatta Pattern: string (nullable = true)\n",
      " |-- Kurta Fabric: string (nullable = true)\n",
      " |-- Kurta Pattern: string (nullable = true)\n",
      " |-- Ornamentation: string (nullable = true)\n",
      " |-- Set Content: string (nullable = true)\n",
      " |-- Stitch: string (nullable = true)\n",
      " |-- Technique: string (nullable = true)\n",
      " |-- Add-Ons: string (nullable = true)\n",
      " |-- Brand Fit Name: string (nullable = true)\n",
      " |-- Character: string (nullable = true)\n",
      " |-- Fabric 2: string (nullable = true)\n",
      " |-- Features: string (nullable = true)\n",
      " |-- Fit: string (nullable = true)\n",
      " |-- Fly Type: string (nullable = true)\n",
      " |-- Main Trend: string (nullable = true)\n",
      " |-- Multipack Set: string (nullable = true)\n",
      " |-- Sustainable: string (nullable = true)\n",
      " |-- Type of Pleat: string (nullable = true)\n",
      " |-- Waist Rise: string (nullable = true)\n",
      " |-- Weave Type: string (nullable = true)\n",
      " |-- Distress: string (nullable = true)\n",
      " |-- Effects: string (nullable = true)\n",
      " |-- Fabric 3: string (nullable = true)\n",
      " |-- Fade: string (nullable = true)\n",
      " |-- Reversible: string (nullable = true)\n",
      " |-- Shade: string (nullable = true)\n",
      " |-- Stretch: string (nullable = true)\n",
      " |-- Type of Distress: string (nullable = true)\n",
      " |-- Waistband: string (nullable = true)\n",
      " |-- Center Front Open: string (nullable = true)\n",
      " |-- Fabric Type: string (nullable = true)\n",
      " |-- Lining: string (nullable = true)\n",
      " |-- Sleeve Styling: string (nullable = true)\n",
      " |-- Transparency: string (nullable = true)\n",
      " |-- taxMaterial: string (nullable = true)\n",
      " |-- Front Styling: string (nullable = true)\n",
      " |-- Knit or Woven: string (nullable = true)\n",
      " |-- Sport: string (nullable = true)\n",
      " |-- Technology: string (nullable = true)\n",
      " |-- Blouse Closure: string (nullable = true)\n",
      " |-- Blouse Fabric: string (nullable = true)\n",
      " |-- Choli Stitch: string (nullable = true)\n",
      " |-- Dupatta: string (nullable = true)\n",
      " |-- Lehenga Closure: string (nullable = true)\n",
      " |-- Lehenga Fabric: string (nullable = true)\n",
      " |-- Lehenga Lining Fabric: string (nullable = true)\n",
      " |-- Lehenga Stitch: string (nullable = true)\n",
      " |-- Regions: string (nullable = true)\n",
      " |-- Style Tip: string (nullable = true)\n",
      " |-- Top Pattern: string (nullable = true)\n",
      " |-- Where-to-wear: string (nullable = true)\n",
      " |-- Bottom Closure: string (nullable = true)\n",
      " |-- Bottom Type: string (nullable = true)\n",
      " |-- Top Fabric: string (nullable = true)\n",
      " |-- Top Type: string (nullable = true)\n",
      " |-- Trends: string (nullable = true)\n",
      " |-- Blouse: string (nullable = true)\n",
      " |-- Border: string (nullable = true)\n",
      " |-- Care for me: string (nullable = true)\n",
      " |-- Saree Fabric: string (nullable = true)\n",
      " |-- Collar: string (nullable = true)\n",
      " |-- Lining Fabric: string (nullable = true)\n",
      " |-- Pattern Coverage: string (nullable = true)\n",
      " |-- Slit Detail: string (nullable = true)\n",
      " |-- Top Design Styling: string (nullable = true)\n",
      " |-- Top Hemline: string (nullable = true)\n",
      " |-- Top Length: string (nullable = true)\n",
      " |-- Top Shape: string (nullable = true)\n",
      " |-- Weave Pattern: string (nullable = true)\n",
      " |-- Design Styling: string (nullable = true)\n",
      " |-- Shape: string (nullable = true)\n",
      " |-- Sport Team: string (nullable = true)\n",
      " |-- Technology Present: string (nullable = true)\n",
      " |-- Fabric Purity: string (nullable = true)\n",
      " |-- Fusion Wear: string (nullable = true)\n",
      " |-- Pattern Size: string (nullable = true)\n",
      " |-- Contact Brand or Retailer for pre-sales product queries: string (nullable = true)\n",
      " |-- Wedding: string (nullable = true)\n",
      " |-- Sub Trend: string (nullable = true)\n",
      " |-- Colour Family: string (nullable = true)\n",
      " |-- Collection Name: string (nullable = true)\n",
      " |-- Better Cotton Initiative: string (nullable = true)\n",
      " |-- About the Brand: string (nullable = true)\n",
      " |-- How to care for your denim: string (nullable = true)\n",
      "\n"
     ]
    },
    {
     "data": {
      "text/plain": [
       "6568"
      ]
     },
     "execution_count": 11,
     "metadata": {},
     "output_type": "execute_result"
    }
   ],
   "source": [
    "from pyspark.sql.functions import col,from_json\n",
    "dfJSON = df2.withColumn(\"jsonData\",from_json(col(\"p_attributes\"),schema)) \\\n",
    "                   .select(\"jsonData.*\")\n",
    "dfJSON.printSchema()\n",
    "dfJSON.count()"
   ]
  },
  {
   "cell_type": "code",
   "execution_count": 12,
   "id": "b1b134c7",
   "metadata": {},
   "outputs": [
    {
     "data": {
      "text/plain": [
       "6568"
      ]
     },
     "execution_count": 12,
     "metadata": {},
     "output_type": "execute_result"
    }
   ],
   "source": [
    "df3 = df2.select(from_json(col(\"p_attributes\"), schema).alias(\"data\")) \\\n",
    "         .select(\"data.*\")\n",
    "df3.count()"
   ]
  },
  {
   "cell_type": "code",
   "execution_count": 13,
   "id": "94028f9e",
   "metadata": {},
   "outputs": [
    {
     "name": "stdout",
     "output_type": "stream",
     "text": [
      "root\n",
      " |-- p_id: string (nullable = true)\n",
      " |-- name: string (nullable = true)\n",
      " |-- price: string (nullable = true)\n",
      " |-- colour: string (nullable = true)\n",
      " |-- brand_name: string (nullable = true)\n",
      " |-- ratingCount: string (nullable = true)\n",
      " |-- avg_rating: string (nullable = true)\n",
      "\n"
     ]
    }
   ],
   "source": [
    "df2 = df2.drop(\"description\", \"p_attributes\")\n",
    "df2.printSchema()"
   ]
  },
  {
   "cell_type": "code",
   "execution_count": 16,
   "id": "5aedfdd6",
   "metadata": {},
   "outputs": [
    {
     "data": {
      "text/plain": [
       "6568"
      ]
     },
     "execution_count": 16,
     "metadata": {},
     "output_type": "execute_result"
    }
   ],
   "source": [
    "# df3.printSchema()\n",
    "# df3.select(\"Occasion\").isNull()\n",
    "# df4= df2.join(df3)\n",
    "df2.count()"
   ]
  },
  {
   "cell_type": "code",
   "execution_count": 38,
   "id": "705482bd",
   "metadata": {},
   "outputs": [
    {
     "data": {
      "text/plain": [
       "13136"
      ]
     },
     "execution_count": 38,
     "metadata": {},
     "output_type": "execute_result"
    }
   ],
   "source": [
    "merged_df = df2.unionByName(dfJSON, allowMissingColumns=True)\n",
    "# merged_df.prin/tSchema()\n",
    "df2.count()\n",
    "df3.count()\n",
    "merged_df.count()"
   ]
  },
  {
   "cell_type": "code",
   "execution_count": 61,
   "id": "0a144f73",
   "metadata": {},
   "outputs": [],
   "source": [
    "from pyspark.sql.functions import lit\n",
    "for column in [column for column in df3.columns if column not in df2.columns]:\n",
    "    df2 = df2.withColumn(column, lit(None))"
   ]
  },
  {
   "cell_type": "code",
   "execution_count": null,
   "id": "9b82e567",
   "metadata": {},
   "outputs": [],
   "source": [
    "\n",
    "# df2.printSchema()\n",
    "df2.count()"
   ]
  },
  {
   "cell_type": "code",
   "execution_count": null,
   "id": "63498d13",
   "metadata": {},
   "outputs": [],
   "source": [
    "# df3=df3.dropna()\n",
    "from pyspark.sql.functions import col,isnan, when, count\n",
    "df.select([count(when(isnan(c) | col(c).isNull(), c)).alias(c) for c in df.columns]).show()"
   ]
  },
  {
   "cell_type": "code",
   "execution_count": null,
   "id": "aece2bea",
   "metadata": {},
   "outputs": [],
   "source": []
  }
 ],
 "metadata": {
  "kernelspec": {
   "display_name": "Python 3 (ipykernel)",
   "language": "python",
   "name": "python3"
  },
  "language_info": {
   "codemirror_mode": {
    "name": "ipython",
    "version": 3
   },
   "file_extension": ".py",
   "mimetype": "text/x-python",
   "name": "python",
   "nbconvert_exporter": "python",
   "pygments_lexer": "ipython3",
   "version": "3.8.10"
  },
  "vscode": {
   "interpreter": {
    "hash": "86fd9dda04af316ea906af877c51983ad4eed7acf1af0acef1b3014762582e4c"
   }
  }
 },
 "nbformat": 4,
 "nbformat_minor": 5
}
